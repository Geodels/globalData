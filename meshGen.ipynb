{
 "cells": [
  {
   "cell_type": "code",
   "execution_count": 1,
   "metadata": {},
   "outputs": [],
   "source": [
    "import meshio\n",
    "import numpy as np\n",
    "import os.path as path\n",
    "import stripy as stripy\n",
    "from scipy import ndimage\n",
    "from netCDF4 import Dataset"
   ]
  },
  {
   "cell_type": "markdown",
   "metadata": {},
   "source": [
    "## Create mesh with stripy"
   ]
  },
  {
   "cell_type": "code",
   "execution_count": 2,
   "metadata": {},
   "outputs": [],
   "source": [
    "# grid0 = stripy.spherical_meshes.icosahedral_mesh(include_face_points=False, refinement_levels=10)\n",
    "\n",
    "# str_fmt = \"{:25} {:9}\"\n",
    "# print(str_fmt.format('Number of points', grid0.npoints))\n",
    "# print(str_fmt.format('Number of cells', grid0.simplices.shape[0]))\n",
    "\n",
    "# mesh0 = meshio.Mesh(grid0.points, {'triangle': grid0.simplices})\n",
    "# meshio.write(\"icosahedral-mesh.vtk\", mesh0)\n",
    "\n",
    "# Number of points           10485762\n",
    "# Number of cells            20971520"
   ]
  },
  {
   "cell_type": "code",
   "execution_count": 3,
   "metadata": {},
   "outputs": [],
   "source": [
    "# grid1 = stripy.spherical_meshes.triangulated_soccerball_mesh(refinement_levels=8)\n",
    "\n",
    "# str_fmt = \"{:25} {:9}\"\n",
    "# print(str_fmt.format('Number of points', grid1.npoints))\n",
    "# print(str_fmt.format('Number of cells', grid1.simplices.shape[0]))\n",
    "\n",
    "# mesh1 = meshio.Mesh(grid1.points, {'triangle': grid1.simplices})\n",
    "# meshio.write(\"soccerball-mesh.vtk\", mesh1)"
   ]
  },
  {
   "cell_type": "code",
   "execution_count": 5,
   "metadata": {},
   "outputs": [
    {
     "name": "stdout",
     "output_type": "stream",
     "text": [
      "Number of points            1048578\n",
      "Number of cells             2097152\n"
     ]
    }
   ],
   "source": [
    "grid2 = stripy.spherical_meshes.octahedral_mesh(include_face_points=False, refinement_levels=11)\n",
    "\n",
    "str_fmt = \"{:25} {:9}\"\n",
    "print(str_fmt.format('Number of points', grid2.npoints))\n",
    "print(str_fmt.format('Number of cells', grid2.simplices.shape[0]))\n",
    "# mesh2 = meshio.Mesh(grid2.points, {'triangle': grid2.simplices})\n",
    "# meshio.write(\"octahedral-mesh.vtk\", mesh2)\n",
    "\n",
    "# Number of points           16777218\n",
    "# Number of cells            33554432"
   ]
  },
  {
   "cell_type": "markdown",
   "metadata": {},
   "source": [
    "We also need to store each vertex neighbours... This is a pretty long process here it needs to be optimise I guess :-)"
   ]
  },
  {
   "cell_type": "code",
   "execution_count": null,
   "metadata": {},
   "outputs": [],
   "source": []
  },
  {
   "cell_type": "code",
   "execution_count": 6,
   "metadata": {},
   "outputs": [],
   "source": [
    "x = grid2.points[:,0]*6378137.\n",
    "y = grid2.points[:,1]*6378137. \n",
    "h = grid2.points[:,2]*6378137. #+ elevations \n",
    "\n",
    "coords = np.vstack((x,y))\n",
    "coords = np.vstack((coords,h)).T"
   ]
  },
  {
   "cell_type": "code",
   "execution_count": 7,
   "metadata": {
    "scrolled": true
   },
   "outputs": [
    {
     "name": "stdout",
     "output_type": "stream",
     "text": [
      "Compute  0.0 % of the neighborhood\n",
      "Compute  47.683624871015795 % of the neighborhood\n",
      "Compute  95.36724974203159 % of the neighborhood\n"
     ]
    }
   ],
   "source": [
    "ngbh = -np.ones((grid2.npoints,6))\n",
    "for k in range(grid2.npoints):\n",
    "    ids = grid2.identify_vertex_neighbours(k)\n",
    "    ngbh[k,0:len(ids)] = ids\n",
    "    if k%500000==0:\n",
    "        print('Compute ',int(k*100./float(grid2.npoints)),'% of the neighborhood')"
   ]
  },
  {
   "cell_type": "code",
   "execution_count": 8,
   "metadata": {},
   "outputs": [],
   "source": [
    "np.savez_compressed('data/sphereHR/octohedral_lr', v=coords, c=grid2.simplices, n=ngbh.astype(int))"
   ]
  },
  {
   "cell_type": "code",
   "execution_count": null,
   "metadata": {},
   "outputs": [],
   "source": []
  },
  {
   "cell_type": "markdown",
   "metadata": {},
   "source": [
    "## Reading paleoelevation grid"
   ]
  },
  {
   "cell_type": "code",
   "execution_count": 9,
   "metadata": {},
   "outputs": [],
   "source": [
    "elevfile = \"data/scotese/60Ma.nc\"\n",
    "data = Dataset(elevfile, \"r\", format=\"NETCDF4\")\n",
    "img = np.fliplr(data['z'][:,:].T)"
   ]
  },
  {
   "cell_type": "markdown",
   "metadata": {},
   "source": [
    "Define coordinates for interpolation on our mesh..."
   ]
  },
  {
   "cell_type": "code",
   "execution_count": 10,
   "metadata": {},
   "outputs": [],
   "source": [
    "# Convert spherical mesh longitudes and latitudes to degrees\n",
    "dlons = np.mod(np.degrees(grid2.lons)+180.0, 360.0)\n",
    "dlats = np.mod(np.degrees(grid2.lats)+90, 180.0)\n",
    "\n",
    "# Map mesh coordinates on ETOPO1 dataset\n",
    "ilons = img.shape[0] * dlons / 360.0\n",
    "ilats = img.shape[1] * dlats / 180.0\n",
    "\n",
    "icoords = np.stack((ilons, ilats))"
   ]
  },
  {
   "cell_type": "markdown",
   "metadata": {},
   "source": [
    "## Performing interplolation..."
   ]
  },
  {
   "cell_type": "code",
   "execution_count": 11,
   "metadata": {},
   "outputs": [],
   "source": [
    "elevations = ndimage.map_coordinates(img, icoords , order=3, mode='nearest').astype(np.float)"
   ]
  },
  {
   "cell_type": "code",
   "execution_count": 13,
   "metadata": {},
   "outputs": [],
   "source": [
    "x = grid2.points[:,0]*6378137.\n",
    "y = grid2.points[:,1]*6378137. \n",
    "h = grid2.points[:,2]*6378137.+ elevations \n",
    "\n",
    "coords = np.vstack((x,y))\n",
    "coords = np.vstack((coords,h)).T"
   ]
  },
  {
   "cell_type": "markdown",
   "metadata": {},
   "source": [
    "## Save model input mesh"
   ]
  },
  {
   "cell_type": "code",
   "execution_count": 14,
   "metadata": {},
   "outputs": [],
   "source": [
    "np.savez_compressed('data/scotese_cells_lr_60Ma', v=coords, c=grid2.simplices, n=ngbh.astype(int), z=elevations)"
   ]
  },
  {
   "cell_type": "code",
   "execution_count": null,
   "metadata": {},
   "outputs": [],
   "source": []
  },
  {
   "cell_type": "code",
   "execution_count": null,
   "metadata": {},
   "outputs": [],
   "source": [
    "mesh = meshio.Mesh(coords, {'triangle': grid.simplices}, {'Z':elevations})\n",
    "meshio.write(\"data/60_11.vtk\", mesh)"
   ]
  },
  {
   "cell_type": "code",
   "execution_count": null,
   "metadata": {},
   "outputs": [],
   "source": []
  },
  {
   "cell_type": "code",
   "execution_count": null,
   "metadata": {},
   "outputs": [],
   "source": []
  },
  {
   "cell_type": "markdown",
   "metadata": {},
   "source": [
    "Loading a file and make interpolation"
   ]
  },
  {
   "cell_type": "code",
   "execution_count": 15,
   "metadata": {},
   "outputs": [
    {
     "name": "stdout",
     "output_type": "stream",
     "text": [
      "loading time  0.37361900000000503\n"
     ]
    }
   ],
   "source": [
    "from time import clock\n",
    "t0 = clock()\n",
    "loaded = np.load(\"data/paleotopo/scotese_cells10Ma8.npz\")\n",
    "coords = loaded['v']\n",
    "ngbhs = loaded['n']\n",
    "cells = loaded['c']\n",
    "elev = loaded['z']\n",
    "print('loading time ',clock()-t0)"
   ]
  },
  {
   "cell_type": "code",
   "execution_count": null,
   "metadata": {},
   "outputs": [],
   "source": [
    "cells.dtype"
   ]
  },
  {
   "cell_type": "code",
   "execution_count": null,
   "metadata": {},
   "outputs": [],
   "source": []
  },
  {
   "cell_type": "code",
   "execution_count": 16,
   "metadata": {},
   "outputs": [],
   "source": [
    "radius = 6378137.0\n",
    "lats = np.arcsin(coords[:,-1]/radius)\n",
    "lons = np.arctan2(coords[:,1],coords[:,0]) \n",
    "\n",
    "dlons = np.mod(np.degrees(lons)+180.0, 360.0)\n",
    "dlats = np.mod(np.degrees(lats)+90, 180.0)\n",
    "   \n",
    "elevfile = \"data/scotese/60Ma.nc\"\n",
    "data = Dataset(elevfile, \"r\", format=\"NETCDF4\")\n",
    "img = np.fliplr(data['z'][:,:].T)\n",
    "\n",
    "ilons = img.shape[0] * dlons / 360.0\n",
    "ilats = img.shape[1] * dlats / 180.0\n",
    "icoords = np.stack((ilons, ilats))\n",
    "    \n",
    "elev = ndimage.map_coordinates(img, icoords , order=3, mode='nearest').astype(np.float)"
   ]
  },
  {
   "cell_type": "code",
   "execution_count": 17,
   "metadata": {},
   "outputs": [],
   "source": [
    "meshAge = \"data/lr_60Ma\"\n",
    "np.savez_compressed(meshAge, v=coords, c=cells, n=ngbhs, z=elev)"
   ]
  },
  {
   "cell_type": "code",
   "execution_count": null,
   "metadata": {},
   "outputs": [],
   "source": [
    "mesh = meshio.Mesh(coords, {'triangle': cells}, {'Z':elev})\n",
    "meshio.write(\"data/6km_60Ma.vtk\", mesh)"
   ]
  },
  {
   "cell_type": "markdown",
   "metadata": {},
   "source": [
    "Distances..."
   ]
  },
  {
   "cell_type": "code",
   "execution_count": null,
   "metadata": {},
   "outputs": [],
   "source": [
    "import meshplex\n",
    "Tmesh = meshplex.MeshTri(coords,loaded['c'])\n",
    "Tmesh.create_edges()\n",
    "edges_nodes = Tmesh.edges['nodes']"
   ]
  },
  {
   "cell_type": "code",
   "execution_count": null,
   "metadata": {},
   "outputs": [],
   "source": [
    "e1 = edges_nodes[:,0]\n",
    "e2 = edges_nodes[:,1]\n",
    "dx = coords[e1,0]-coords[e2,0]\n",
    "dy = coords[e1,1]-coords[e2,1]\n",
    "dz = coords[e1,2]-coords[e2,2]\n",
    "d2 = dx**2+dy**2+dz**2\n",
    "dist = np.sqrt(d2)\n",
    "print(dist.min(),dist.max(),np.mean(dist))"
   ]
  },
  {
   "cell_type": "code",
   "execution_count": null,
   "metadata": {},
   "outputs": [],
   "source": []
  },
  {
   "cell_type": "code",
   "execution_count": null,
   "metadata": {},
   "outputs": [],
   "source": []
  },
  {
   "cell_type": "code",
   "execution_count": null,
   "metadata": {},
   "outputs": [],
   "source": []
  },
  {
   "cell_type": "code",
   "execution_count": null,
   "metadata": {},
   "outputs": [],
   "source": []
  },
  {
   "cell_type": "code",
   "execution_count": null,
   "metadata": {},
   "outputs": [],
   "source": []
  },
  {
   "cell_type": "code",
   "execution_count": null,
   "metadata": {},
   "outputs": [],
   "source": []
  },
  {
   "cell_type": "code",
   "execution_count": null,
   "metadata": {},
   "outputs": [],
   "source": []
  },
  {
   "cell_type": "code",
   "execution_count": null,
   "metadata": {},
   "outputs": [],
   "source": []
  },
  {
   "cell_type": "code",
   "execution_count": null,
   "metadata": {},
   "outputs": [],
   "source": []
  }
 ],
 "metadata": {
  "kernelspec": {
   "display_name": "Python 3",
   "language": "python",
   "name": "python3"
  },
  "language_info": {
   "codemirror_mode": {
    "name": "ipython",
    "version": 3
   },
   "file_extension": ".py",
   "mimetype": "text/x-python",
   "name": "python",
   "nbconvert_exporter": "python",
   "pygments_lexer": "ipython3",
   "version": "3.5.3"
  }
 },
 "nbformat": 4,
 "nbformat_minor": 2
}
