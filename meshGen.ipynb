{
 "cells": [
  {
   "cell_type": "code",
   "execution_count": null,
   "metadata": {},
   "outputs": [],
   "source": [
    "import meshio\n",
    "import numpy as np\n",
    "import os.path as path\n",
    "import stripy as stripy\n",
    "from scipy import ndimage\n",
    "from netCDF4 import Dataset"
   ]
  },
  {
   "cell_type": "markdown",
   "metadata": {},
   "source": [
    "## Create mesh with stripy"
   ]
  },
  {
   "cell_type": "code",
   "execution_count": null,
   "metadata": {},
   "outputs": [],
   "source": [
    "grid = stripy.spherical_meshes.icosahedral_mesh(include_face_points=False, refinement_levels=11)\n",
    "\n",
    "str_fmt = \"{:25} {:9}\"\n",
    "print(str_fmt.format('Number of points', grid.npoints))\n",
    "print(str_fmt.format('Number of cells', grid.simplices.shape[0]))"
   ]
  },
  {
   "cell_type": "markdown",
   "metadata": {},
   "source": [
    "We also need to store each vertex neighbours... This is a pretty long process here it needs to be optimise I guess :-)"
   ]
  },
  {
   "cell_type": "code",
   "execution_count": null,
   "metadata": {
    "scrolled": true
   },
   "outputs": [],
   "source": [
    "ngbh = -np.ones((grid.npoints,6))\n",
    "for k in range(grid.npoints):\n",
    "    ids = grid.identify_vertex_neighbours(k)\n",
    "    ngbh[k,0:len(ids)] = ids\n",
    "    if k%100000==0:\n",
    "        print('Compute ',k*100./41943042.,'% of the neighborhood')\n",
    "np.savez_compressed('ngbh11', n=ngbh.astype(int))"
   ]
  },
  {
   "cell_type": "markdown",
   "metadata": {},
   "source": [
    "## Reading paleoelevation grid"
   ]
  },
  {
   "cell_type": "code",
   "execution_count": null,
   "metadata": {},
   "outputs": [],
   "source": [
    "elevfile = \"data/scotese/60Ma.nc\"\n",
    "data = Dataset(elevfile, \"r\", format=\"NETCDF4\")\n",
    "img = np.fliplr(data['z'][:,:].T)"
   ]
  },
  {
   "cell_type": "markdown",
   "metadata": {},
   "source": [
    "Define coordinates for interpolation on our mesh..."
   ]
  },
  {
   "cell_type": "code",
   "execution_count": null,
   "metadata": {},
   "outputs": [],
   "source": [
    "# Convert spherical mesh longitudes and latitudes to degrees\n",
    "dlons = np.mod(np.degrees(grid.lons)+180.0, 360.0)\n",
    "dlats = np.mod(np.degrees(grid.lats)+90, 180.0)\n",
    "\n",
    "# Map mesh coordinates on ETOPO1 dataset\n",
    "ilons = img.shape[0] * dlons / 360.0\n",
    "ilats = img.shape[1] * dlats / 180.0\n",
    "\n",
    "icoords = np.stack((ilons, ilats))"
   ]
  },
  {
   "cell_type": "markdown",
   "metadata": {},
   "source": [
    "## Performing interplolation..."
   ]
  },
  {
   "cell_type": "code",
   "execution_count": null,
   "metadata": {},
   "outputs": [],
   "source": [
    "elevations = ndimage.map_coordinates(img, icoords , order=3, mode='nearest').astype(np.float)"
   ]
  },
  {
   "cell_type": "code",
   "execution_count": null,
   "metadata": {},
   "outputs": [],
   "source": [
    "x = grid.points[:,0]*6378137.\n",
    "y = grid.points[:,1]*6378137. \n",
    "h = grid.points[:,2]*6378137.+ elevations \n",
    "\n",
    "coords = np.vstack((x,y))\n",
    "coords = np.vstack((coords,h)).T"
   ]
  },
  {
   "cell_type": "markdown",
   "metadata": {},
   "source": [
    "## Save model input mesh"
   ]
  },
  {
   "cell_type": "code",
   "execution_count": null,
   "metadata": {},
   "outputs": [],
   "source": [
    "np.savez_compressed('data/scotese_cells_hr_60Ma', v=coords, c=grid.simplices, n=ngbh.astype(int), z=elevations)"
   ]
  },
  {
   "cell_type": "code",
   "execution_count": null,
   "metadata": {},
   "outputs": [],
   "source": []
  },
  {
   "cell_type": "code",
   "execution_count": null,
   "metadata": {},
   "outputs": [],
   "source": [
    "mesh = meshio.Mesh(coords, {'triangle': grid.simplices}, {'Z':elevations})\n",
    "meshio.write(\"data/60_11.vtk\", mesh)"
   ]
  },
  {
   "cell_type": "code",
   "execution_count": null,
   "metadata": {},
   "outputs": [],
   "source": []
  },
  {
   "cell_type": "code",
   "execution_count": null,
   "metadata": {},
   "outputs": [],
   "source": []
  },
  {
   "cell_type": "code",
   "execution_count": null,
   "metadata": {},
   "outputs": [],
   "source": []
  },
  {
   "cell_type": "code",
   "execution_count": null,
   "metadata": {},
   "outputs": [],
   "source": [
    "from time import clock\n",
    "t0 = clock()\n",
    "loaded = np.load(\"data/scotese_cells_hr_60Ma.npz\")\n",
    "coords = loaded['v']\n",
    "ngbhs = loaded['n']\n",
    "elev = loaded['z']\n",
    "print('loading time ',clock()-t0)\n",
    "print(elev.shape,ngbhs.shape,coords.shape)"
   ]
  },
  {
   "cell_type": "code",
   "execution_count": null,
   "metadata": {},
   "outputs": [],
   "source": []
  }
 ],
 "metadata": {
  "kernelspec": {
   "display_name": "Python 3",
   "language": "python",
   "name": "python3"
  },
  "language_info": {
   "codemirror_mode": {
    "name": "ipython",
    "version": 3
   },
   "file_extension": ".py",
   "mimetype": "text/x-python",
   "name": "python",
   "nbconvert_exporter": "python",
   "pygments_lexer": "ipython3",
   "version": "3.5.3"
  }
 },
 "nbformat": 4,
 "nbformat_minor": 2
}
