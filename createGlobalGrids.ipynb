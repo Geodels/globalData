{
 "cells": [
  {
   "cell_type": "code",
   "execution_count": null,
   "metadata": {},
   "outputs": [],
   "source": [
    "import vtk\n",
    "from vtk.util.numpy_support import vtk_to_numpy\n",
    "\n",
    "from scipy import ndimage\n",
    "from time import clock\n",
    "\n",
    "import gdal\n",
    "import meshio\n",
    "import numpy as np\n",
    "import pandas as pd\n",
    "from netCDF4 import Dataset"
   ]
  },
  {
   "cell_type": "markdown",
   "metadata": {},
   "source": [
    "## Reading eTOPO dataset..."
   ]
  },
  {
   "cell_type": "code",
   "execution_count": null,
   "metadata": {},
   "outputs": [],
   "source": [
    "filename = \"data/ETOPO1.tif\"\n",
    "gtiff = gdal.Open(filename)\n",
    "img = np.fliplr(gtiff.GetRasterBand(1).ReadAsArray().T)"
   ]
  },
  {
   "cell_type": "markdown",
   "metadata": {},
   "source": [
    "## Reading Scotese dataset..."
   ]
  },
  {
   "cell_type": "code",
   "execution_count": null,
   "metadata": {},
   "outputs": [],
   "source": [
    "data = Dataset(\"data/scotese/5Ma.nc\", \"r\", format=\"NETCDF4\")\n",
    "img = np.fliplr(data['z'][:,:].T)"
   ]
  },
  {
   "cell_type": "markdown",
   "metadata": {},
   "source": [
    "## Read mesh from refinement level"
   ]
  },
  {
   "cell_type": "code",
   "execution_count": null,
   "metadata": {},
   "outputs": [],
   "source": [
    "ref_lvl = 10\n",
    "meshFile = \"data/globe_ref\"+str(ref_lvl)"
   ]
  },
  {
   "cell_type": "markdown",
   "metadata": {},
   "source": [
    "Extract mesh information from `vtk` file:"
   ]
  },
  {
   "cell_type": "code",
   "execution_count": null,
   "metadata": {},
   "outputs": [],
   "source": [
    "t0 = clock()\n",
    "mdata = meshio.read(meshFile+\".vtk\")\n",
    "\n",
    "# Information...\n",
    "cells = np.asarray(mdata.cells['triangle'], dtype=np.int32)\n",
    "coords = np.asarray(mdata.points, dtype=np.double)\n",
    "ngbhs = np.asarray(mdata.point_data['ngbhs'], dtype=np.double)\n",
    "print(clock()-t0)"
   ]
  },
  {
   "cell_type": "markdown",
   "metadata": {},
   "source": [
    "From `XYZ` coordinates to `lon/lat`:"
   ]
  },
  {
   "cell_type": "code",
   "execution_count": null,
   "metadata": {},
   "outputs": [],
   "source": [
    "radius = 6378137.0\n",
    "lats = np.arcsin(coords[:,-1]/radius)\n",
    "lons = np.arctan2(coords[:,1],coords[:,0]) "
   ]
  },
  {
   "cell_type": "markdown",
   "metadata": {},
   "source": [
    "Convert spherical mesh longitudes and latitudes to degrees"
   ]
  },
  {
   "cell_type": "code",
   "execution_count": null,
   "metadata": {},
   "outputs": [],
   "source": [
    "dlons = np.mod(np.degrees(lons)+180.0, 360.0)\n",
    "dlats = np.mod(np.degrees(lats)+90, 180.0)"
   ]
  },
  {
   "cell_type": "markdown",
   "metadata": {},
   "source": [
    "## Map mesh coordinates on ETOPO"
   ]
  },
  {
   "cell_type": "code",
   "execution_count": null,
   "metadata": {},
   "outputs": [],
   "source": [
    "ilons = img.shape[0] * dlons / 360.0\n",
    "ilats = img.shape[1] * dlats / 180.0\n",
    "\n",
    "icoords = np.stack((ilons, ilats))"
   ]
  },
  {
   "cell_type": "markdown",
   "metadata": {},
   "source": [
    "Define by interpolation eTOPO values..."
   ]
  },
  {
   "cell_type": "code",
   "execution_count": null,
   "metadata": {},
   "outputs": [],
   "source": [
    "elev = ndimage.map_coordinates(img, icoords , order=3, mode='nearest').astype(np.float)"
   ]
  },
  {
   "cell_type": "markdown",
   "metadata": {},
   "source": [
    "## Store compressed numpy file\n",
    "\n",
    "Create a numpy compressed `npz` file..."
   ]
  },
  {
   "cell_type": "code",
   "execution_count": null,
   "metadata": {},
   "outputs": [],
   "source": [
    "meshAge = \"data/scotese5Ma\"+str(ref_lvl)\n",
    "np.savez_compressed(meshAge, v=coords, n=ngbhs, z=elev)"
   ]
  },
  {
   "cell_type": "markdown",
   "metadata": {},
   "source": [
    "## Making it as a function...."
   ]
  },
  {
   "cell_type": "code",
   "execution_count": null,
   "metadata": {},
   "outputs": [],
   "source": [
    "def paleoElevation(elevfile,modelfile,ref_lvl,paleofile):\n",
    "    \n",
    "    if elevfile.endswith('.tif'):\n",
    "        gtiff = gdal.Open(elevfile)\n",
    "        img = np.fliplr(gtiff.GetRasterBand(1).ReadAsArray().T)\n",
    "    elif elevfile.endswith('.nc'):\n",
    "        data = Dataset(elevfile, \"r\", format=\"NETCDF4\")\n",
    "        img = np.fliplr(data['z'][:,:].T)\n",
    "    else:\n",
    "        print(elevfile, \"is an unknown file format.\")\n",
    "        print(\"Accepted formats: geotif (.tif) and netCDF4 (.nc).\")\n",
    "        return\n",
    "    \n",
    "    meshFile = modelfile+str(ref_lvl)\n",
    "    mdata = meshio.read(meshFile+\".vtk\")\n",
    "\n",
    "    cells = np.asarray(mdata.cells['triangle'], dtype=np.int32)\n",
    "    coords = np.asarray(mdata.points, dtype=np.double)\n",
    "    ngbhs = np.asarray(mdata.point_data['ngbhs'], dtype=np.double)\n",
    "    \n",
    "    radius = 6378137.0\n",
    "    lats = np.arcsin(coords[:,-1]/radius)\n",
    "    lons = np.arctan2(coords[:,1],coords[:,0]) \n",
    "    \n",
    "    dlons = np.mod(np.degrees(lons)+180.0, 360.0)\n",
    "    dlats = np.mod(np.degrees(lats)+90, 180.0)\n",
    "    \n",
    "    ilons = img.shape[0] * dlons / 360.0\n",
    "    ilats = img.shape[1] * dlats / 180.0\n",
    "    icoords = np.stack((ilons, ilats))\n",
    "    \n",
    "    elev = ndimage.map_coordinates(img, icoords , order=3, mode='nearest').astype(np.float)\n",
    "    meshAge = paleofile+str(ref_lvl)\n",
    "    np.savez_compressed(meshAge, v=coords, c=cells, n=ngbhs, z=elev)\n",
    "    \n",
    "    print('Your paleo-elevation file has been created: ',meshAge+'.npz')\n",
    "    \n",
    "#     mdata = meshio.read(meshFile+\".vtk\")\n",
    "#     mesh1 = meshio.Mesh(coords,cells={\"triangle\": cells},point_data={\"z\":elev}) \n",
    "#     meshio.write(\"test_elev.vtk\", mesh1)\n",
    "    \n",
    "    return"
   ]
  },
  {
   "cell_type": "code",
   "execution_count": null,
   "metadata": {},
   "outputs": [],
   "source": [
    "elevfile = \"data/scotese/60Ma.nc\"\n",
    "modelfile = \"data/globe_ref\"\n",
    "ref_lvl = 10\n",
    "paleofile = \"data/scotese60Ma\"\n",
    "\n",
    "paleoElevation(elevfile,modelfile,ref_lvl,paleofile)"
   ]
  },
  {
   "cell_type": "markdown",
   "metadata": {},
   "source": [
    "## Velocity maps "
   ]
  },
  {
   "cell_type": "code",
   "execution_count": null,
   "metadata": {},
   "outputs": [],
   "source": [
    "def paleoVelocity(velfile,modelfile,ref_lvl,paleovelo):\n",
    "    \n",
    "    data = pd.read_csv(velfile, sep=r'\\s+', engine='c', header=None, skiprows=[0,1,2,3,4,5,65166], \n",
    "                       error_bad_lines=True, na_filter=False, dtype=np.float, low_memory=False)\n",
    "\n",
    "    lon = data.values[:,0]\n",
    "    lat = data.values[:,1]\n",
    "\n",
    "    # conversion cm/yr to m/yr\n",
    "    tmpx = data.values[:,2]/100.\n",
    "    tmpy = data.values[:,3]/100.\n",
    "    tmpz = data.values[:,4]/100.\n",
    "\n",
    "    tmpx = np.fliplr(tmpx.reshape((181,360)).T)\n",
    "    tmpy = np.fliplr(tmpy.reshape((181,360)).T)\n",
    "    tmpz = np.fliplr(tmpz.reshape((181,360)).T)\n",
    "\n",
    "    dispX = np.zeros((361,181))\n",
    "    dispY = np.zeros((361,181))\n",
    "    dispZ = np.zeros((361,181))\n",
    "\n",
    "    dispX[:360,:] = tmpx\n",
    "    dispX[-1,:] = tmpx[0,:]\n",
    "    dispY[:360,:] = tmpy\n",
    "    dispY[-1,:] = tmpy[0,:]\n",
    "    dispZ[:360,:] = tmpz\n",
    "    dispZ[-1,:] = tmpz[0,:]\n",
    "\n",
    "    meshFile = modelfile+str(ref_lvl)\n",
    "    mdata = meshio.read(meshFile+\".vtk\")\n",
    "\n",
    "    cells = np.asarray(mdata.cells['triangle'], dtype=np.int32)\n",
    "    coords = np.asarray(mdata.points, dtype=np.double)\n",
    "    ngbhs = np.asarray(mdata.point_data['ngbhs'], dtype=np.double)\n",
    "\n",
    "    radius = 6378137.0\n",
    "    lats = np.arcsin(coords[:,-1]/radius)\n",
    "    lons = np.arctan2(coords[:,1],coords[:,0]) \n",
    "\n",
    "    dlons = np.mod(np.degrees(lons)+180.0, 360.0)\n",
    "    dlats = np.mod(np.degrees(lats)+90, 180.0)\n",
    "\n",
    "    ilons = dispX.shape[0] * dlons / 360.0\n",
    "    ilats = dispX.shape[1] * dlats / 180.0\n",
    "    icoords = np.stack((ilons, ilats))\n",
    "\n",
    "    dX = ndimage.map_coordinates(dispX , icoords, order=3, mode='nearest').astype(np.float)\n",
    "    dY = ndimage.map_coordinates(dispY , icoords, order=3, mode='nearest').astype(np.float)\n",
    "    dZ = ndimage.map_coordinates(dispZ , icoords, order=3, mode='nearest').astype(np.float)\n",
    "\n",
    "    disps = np.stack((dX, dY, dZ)).T\n",
    "\n",
    "    velAge = paleovelo+str(ref_lvl)\n",
    "    np.savez_compressed(velAge, xyz=disps)\n",
    "\n",
    "    print('Your paleo-velocity file has been created: ',velAge+'.npz')\n",
    "    \n",
    "#     mdata = meshio.read(meshFile+\".vtk\")\n",
    "#     mesh1 = meshio.Mesh(coords,cells={\"triangle\": cells},point_data={\"xyz\":disps}) \n",
    "#     meshio.write(\"test_disp.vtk\", mesh1)\n",
    "    \n",
    "    return"
   ]
  },
  {
   "cell_type": "code",
   "execution_count": null,
   "metadata": {},
   "outputs": [],
   "source": [
    "for k in range(10):\n",
    "\n",
    "    velfile = \"data/velocityGlobal/velocity_\"+str(k)+\".00Ma.xy\"\n",
    "    modelfile = \"data/globe_ref\"\n",
    "    ref_lvl = 10\n",
    "    paleovelo = \"data/vel\"+str(k)+\"Ma\"\n",
    "\n",
    "    paleoVelocity(velfile,modelfile,ref_lvl,paleovelo)"
   ]
  },
  {
   "cell_type": "markdown",
   "metadata": {},
   "source": [
    "## Testing other stuff...\n",
    "\n",
    "Testing extracting information timing..."
   ]
  },
  {
   "cell_type": "code",
   "execution_count": null,
   "metadata": {},
   "outputs": [],
   "source": [
    "t0 = clock()\n",
    "loaded = np.load(meshAge+\".npz\")\n",
    "coords = loaded['v']\n",
    "ngbhs = loaded['n']\n",
    "elev = loaded['z']\n",
    "\n",
    "print(clock()-t0)\n",
    "print(elev.shape,ngbhs.shape,coords.shape)"
   ]
  },
  {
   "cell_type": "code",
   "execution_count": null,
   "metadata": {},
   "outputs": [],
   "source": []
  }
 ],
 "metadata": {
  "kernelspec": {
   "display_name": "Python 3",
   "language": "python",
   "name": "python3"
  },
  "language_info": {
   "codemirror_mode": {
    "name": "ipython",
    "version": 3
   },
   "file_extension": ".py",
   "mimetype": "text/x-python",
   "name": "python",
   "nbconvert_exporter": "python",
   "pygments_lexer": "ipython3",
   "version": "3.5.3"
  }
 },
 "nbformat": 4,
 "nbformat_minor": 2
}
