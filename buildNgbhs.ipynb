{
 "cells": [
  {
   "cell_type": "code",
   "execution_count": null,
   "metadata": {},
   "outputs": [],
   "source": []
  },
  {
   "cell_type": "code",
   "execution_count": 23,
   "metadata": {},
   "outputs": [],
   "source": [
    "import gc\n",
    "import numpy as np\n",
    "import stripy as stripy\n",
    "from scipy import ndimage\n",
    "import meshplex\n",
    "import meshio\n",
    "from netCDF4 import Dataset\n",
    "from eSCAPE._fortran import defineGTIN"
   ]
  },
  {
   "cell_type": "code",
   "execution_count": 2,
   "metadata": {},
   "outputs": [
    {
     "name": "stdout",
     "output_type": "stream",
     "text": [
      "Number of points           10485762\n"
     ]
    }
   ],
   "source": [
    "grid0 = stripy.spherical_meshes.icosahedral_mesh(include_face_points=False, refinement_levels=10)\n",
    "\n",
    "str_fmt = \"{:25} {:9}\"\n",
    "print(str_fmt.format('Number of points', grid0.npoints))\n",
    "# print(str_fmt.format('Number of cells', grid0.simplices.shape[0]))\n",
    "\n",
    "# mesh0 = meshio.Mesh(grid0.points, {'triangle': grid0.simplices})\n",
    "# meshio.write(\"icosahedral-mesh.vtk\", mesh0)\n",
    "\n",
    "# Number of points           10485762\n",
    "# Number of cells            20971520"
   ]
  },
  {
   "cell_type": "code",
   "execution_count": null,
   "metadata": {},
   "outputs": [],
   "source": [
    "# grid2 = stripy.spherical_meshes.octahedral_mesh(include_face_points=False, refinement_levels=11)\n",
    "\n",
    "# str_fmt = \"{:25} {:9}\"\n",
    "# print(str_fmt.format('Number of points', grid2.npoints))\n",
    "# print(str_fmt.format('Number of cells', grid2.simplices.shape[0]))\n",
    "# mesh2 = meshio.Mesh(grid2.points, {'triangle': grid2.simplices})\n",
    "# meshio.write(\"octahedral-mesh.vtk\", mesh2)\n",
    "\n",
    "# Number of points           16777218\n",
    "# Number of cells            33554432"
   ]
  },
  {
   "cell_type": "code",
   "execution_count": 3,
   "metadata": {},
   "outputs": [],
   "source": [
    "x = grid0.points[:,0]*6378137.\n",
    "y = grid0.points[:,1]*6378137. \n",
    "h = grid0.points[:,2]*6378137. #+ elevations \n",
    "\n",
    "coords = np.vstack((x,y))\n",
    "coords = np.vstack((coords,h)).T"
   ]
  },
  {
   "cell_type": "code",
   "execution_count": null,
   "metadata": {},
   "outputs": [],
   "source": [
    "del x,y,h\n",
    "gc.collect()"
   ]
  },
  {
   "cell_type": "code",
   "execution_count": null,
   "metadata": {},
   "outputs": [],
   "source": [
    "#np.savez_compressed('data/val', v=coords, c=grid2.simplices)"
   ]
  },
  {
   "cell_type": "code",
   "execution_count": null,
   "metadata": {},
   "outputs": [],
   "source": [
    "loaded = np.load(\"data/val.npz\")\n",
    "coords = loaded['v']\n",
    "cells = loaded['c']"
   ]
  },
  {
   "cell_type": "code",
   "execution_count": 4,
   "metadata": {},
   "outputs": [],
   "source": [
    "Gmesh = meshplex.mesh_tri.MeshTri(coords, grid0.simplices)"
   ]
  },
  {
   "cell_type": "code",
   "execution_count": null,
   "metadata": {},
   "outputs": [],
   "source": [
    "del loaded\n",
    "gc.collect()"
   ]
  },
  {
   "cell_type": "code",
   "execution_count": 5,
   "metadata": {},
   "outputs": [],
   "source": [
    "s = Gmesh.idx_hierarchy.shape\n",
    "a = np.sort(Gmesh.idx_hierarchy.reshape(s[0], -1).T)"
   ]
  },
  {
   "cell_type": "code",
   "execution_count": 6,
   "metadata": {},
   "outputs": [],
   "source": [
    "a = np.unique(a, axis=0)"
   ]
  },
  {
   "cell_type": "code",
   "execution_count": 7,
   "metadata": {},
   "outputs": [],
   "source": [
    "Gmesh.edges = {\"nodes\": a}"
   ]
  },
  {
   "cell_type": "code",
   "execution_count": null,
   "metadata": {},
   "outputs": [],
   "source": []
  },
  {
   "cell_type": "code",
   "execution_count": null,
   "metadata": {},
   "outputs": [],
   "source": [
    "np.savez_compressed('data/val', v=coords, c=Gmesh.cells['nodes'], e=Gmesh.edges['nodes'])"
   ]
  },
  {
   "cell_type": "code",
   "execution_count": 8,
   "metadata": {},
   "outputs": [],
   "source": [
    "ngbNbs, ngbID = defineGTIN(len(coords), Gmesh.cells['nodes'], Gmesh.edges['nodes'])"
   ]
  },
  {
   "cell_type": "code",
   "execution_count": 9,
   "metadata": {},
   "outputs": [],
   "source": [
    "np.savez_compressed('data/8km/8km_mesh', v=coords, c=grid0.simplices, n=ngbID[:,:6].astype(int))"
   ]
  },
  {
   "cell_type": "code",
   "execution_count": 10,
   "metadata": {},
   "outputs": [],
   "source": [
    "elevfile = \"data/scotese/60Ma.nc\"\n",
    "data = Dataset(elevfile, \"r\", format=\"NETCDF4\")\n",
    "img = np.fliplr(data['z'][:,:].T)"
   ]
  },
  {
   "cell_type": "code",
   "execution_count": 11,
   "metadata": {},
   "outputs": [],
   "source": [
    "# Convert spherical mesh longitudes and latitudes to degrees\n",
    "dlons = np.mod(np.degrees(grid0.lons)+180.0, 360.0)\n",
    "dlats = np.mod(np.degrees(grid0.lats)+90, 180.0)\n",
    "\n",
    "# Map mesh coordinates on ETOPO1 dataset\n",
    "ilons = img.shape[0] * dlons / 360.0\n",
    "ilats = img.shape[1] * dlats / 180.0\n",
    "\n",
    "icoords = np.stack((ilons, ilats))"
   ]
  },
  {
   "cell_type": "code",
   "execution_count": 12,
   "metadata": {},
   "outputs": [],
   "source": [
    "elevations = ndimage.map_coordinates(img, icoords , order=3, mode='nearest').astype(np.float)"
   ]
  },
  {
   "cell_type": "code",
   "execution_count": 13,
   "metadata": {},
   "outputs": [],
   "source": [
    "x = grid0.points[:,0]*6378137.\n",
    "y = grid0.points[:,1]*6378137. \n",
    "h = grid0.points[:,2]*6378137.+ elevations \n",
    "\n",
    "coords = np.vstack((x,y))\n",
    "coords = np.vstack((coords,h)).T"
   ]
  },
  {
   "cell_type": "code",
   "execution_count": 33,
   "metadata": {},
   "outputs": [
    {
     "ename": "NameError",
     "evalue": "name 'grid0' is not defined",
     "output_type": "error",
     "traceback": [
      "\u001b[0;31m\u001b[0m",
      "\u001b[0;31mNameError\u001b[0mTraceback (most recent call last)",
      "\u001b[0;32m<ipython-input-33-9d2c469b50be>\u001b[0m in \u001b[0;36m<module>\u001b[0;34m\u001b[0m\n\u001b[0;32m----> 1\u001b[0;31m \u001b[0mnp\u001b[0m\u001b[0;34m.\u001b[0m\u001b[0msavez_compressed\u001b[0m\u001b[0;34m(\u001b[0m\u001b[0;34m'data/8km/scotese_cells_8km_60Ma_sth'\u001b[0m\u001b[0;34m,\u001b[0m \u001b[0mv\u001b[0m\u001b[0;34m=\u001b[0m\u001b[0mcoords\u001b[0m\u001b[0;34m,\u001b[0m \u001b[0mc\u001b[0m\u001b[0;34m=\u001b[0m\u001b[0mgrid0\u001b[0m\u001b[0;34m.\u001b[0m\u001b[0msimplices\u001b[0m\u001b[0;34m,\u001b[0m \u001b[0mn\u001b[0m\u001b[0;34m=\u001b[0m\u001b[0mngbID\u001b[0m\u001b[0;34m[\u001b[0m\u001b[0;34m:\u001b[0m\u001b[0;34m,\u001b[0m\u001b[0;34m:\u001b[0m\u001b[0;36m6\u001b[0m\u001b[0;34m]\u001b[0m\u001b[0;34m.\u001b[0m\u001b[0mastype\u001b[0m\u001b[0;34m(\u001b[0m\u001b[0mint\u001b[0m\u001b[0;34m)\u001b[0m\u001b[0;34m,\u001b[0m \u001b[0mz\u001b[0m\u001b[0;34m=\u001b[0m\u001b[0melevations\u001b[0m\u001b[0;34m)\u001b[0m\u001b[0;34m\u001b[0m\u001b[0m\n\u001b[0m",
      "\u001b[0;31mNameError\u001b[0m: name 'grid0' is not defined"
     ]
    }
   ],
   "source": [
    "np.savez_compressed('data/8km/scotese_cells_8km_60Ma_sth', v=coords, c=grid0.simplices, n=ngbID[:,:6].astype(int), z=elevations)"
   ]
  },
  {
   "cell_type": "code",
   "execution_count": null,
   "metadata": {},
   "outputs": [],
   "source": [
    "np.savez_compressed('data/8km/8km_icoords', v=icoords)"
   ]
  },
  {
   "cell_type": "code",
   "execution_count": null,
   "metadata": {},
   "outputs": [],
   "source": []
  },
  {
   "cell_type": "code",
   "execution_count": null,
   "metadata": {},
   "outputs": [],
   "source": []
  },
  {
   "cell_type": "code",
   "execution_count": 5,
   "metadata": {},
   "outputs": [],
   "source": [
    "loaded = np.load('data/6km/scotese_cells_6km_60Ma.npz')\n",
    "coords = loaded['v']\n",
    "cells = loaded['c']\n",
    "ngbID = loaded['n']\n",
    "elev = loaded['z']"
   ]
  },
  {
   "cell_type": "code",
   "execution_count": 6,
   "metadata": {},
   "outputs": [],
   "source": [
    "loaded2 = np.load('data/6km/6km_icoords.npz')\n",
    "icoords = loaded2['v']"
   ]
  },
  {
   "cell_type": "code",
   "execution_count": 9,
   "metadata": {},
   "outputs": [],
   "source": [
    "elevfile = \"data/scotese/60Ma.nc\"\n",
    "data = Dataset(elevfile, \"r\", format=\"NETCDF4\")\n",
    "img = np.fliplr(data['z'][:,:].T)"
   ]
  },
  {
   "cell_type": "code",
   "execution_count": 30,
   "metadata": {},
   "outputs": [],
   "source": [
    "img2 = ndimage.gaussian_filter(img,sigma=2)"
   ]
  },
  {
   "cell_type": "code",
   "execution_count": 31,
   "metadata": {},
   "outputs": [],
   "source": [
    "elevations = ndimage.map_coordinates(img2, icoords , order=2, mode='nearest').astype(np.float)"
   ]
  },
  {
   "cell_type": "code",
   "execution_count": 32,
   "metadata": {},
   "outputs": [],
   "source": [
    "mesher = meshio.Mesh(coords, {'triangle': cells}, point_data={\"z\":elevations})\n",
    "meshio.write(\"mesher.vtk\", mesher)"
   ]
  },
  {
   "cell_type": "code",
   "execution_count": 34,
   "metadata": {},
   "outputs": [],
   "source": [
    "np.savez_compressed('data/6km/scotese_cells_6km_60Ma_sth', v=coords, c=cells, n=ngbID.astype(int), z=elevations)"
   ]
  },
  {
   "cell_type": "code",
   "execution_count": null,
   "metadata": {},
   "outputs": [],
   "source": []
  }
 ],
 "metadata": {
  "kernelspec": {
   "display_name": "Python 3",
   "language": "python",
   "name": "python3"
  },
  "language_info": {
   "codemirror_mode": {
    "name": "ipython",
    "version": 3
   },
   "file_extension": ".py",
   "mimetype": "text/x-python",
   "name": "python",
   "nbconvert_exporter": "python",
   "pygments_lexer": "ipython3",
   "version": "3.5.3"
  }
 },
 "nbformat": 4,
 "nbformat_minor": 2
}
