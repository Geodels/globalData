{
 "cells": [
  {
   "cell_type": "code",
   "execution_count": null,
   "metadata": {},
   "outputs": [],
   "source": [
    "import numpy as np\n",
    "from time import clock\n",
    "from stratigraphy import stratal as strat\n",
    "\n",
    "import pycpt\n",
    "import matplotlib\n",
    "import matplotlib.pyplot as plt\n",
    "from mpl_toolkits.axes_grid1 import make_axes_locatable\n",
    "\n",
    "label_size = 8\n",
    "matplotlib.rcParams['xtick.labelsize'] = label_size \n",
    "matplotlib.rcParams['ytick.labelsize'] = label_size\n",
    "\n",
    "%matplotlib inline\n",
    "%config InlineBackend.figure_format = 'svg' "
   ]
  },
  {
   "cell_type": "code",
   "execution_count": null,
   "metadata": {},
   "outputs": [],
   "source": [
    "strati = strat.stratal(filename='input-60.yml')\n",
    "\n",
    "print(\"Number of cpus used: \",strati.nbCPUs)\n",
    "print(\"Number of stratigraphic layers created: \",strati.layNb)"
   ]
  },
  {
   "cell_type": "code",
   "execution_count": null,
   "metadata": {},
   "outputs": [],
   "source": [
    "t = clock()\n",
    "strati.readStratalData()\n",
    "print('Reading stratal outputfile (%0.02f seconds)'% (clock() - t))"
   ]
  },
  {
   "cell_type": "code",
   "execution_count": null,
   "metadata": {},
   "outputs": [],
   "source": [
    "t = clock()\n",
    "strati.buildLonLatMesh(res=0.2, nghb=3)\n",
    "print(' ')\n",
    "print('Building stratal mesh (%0.02f seconds)'% (clock() - t))"
   ]
  },
  {
   "cell_type": "code",
   "execution_count": null,
   "metadata": {},
   "outputs": [],
   "source": [
    "topocmap = pycpt.load.cmap_from_cptcity_url('gmt/GMT_globe.cpt')\n",
    "depocmap = pycpt.load.cmap_from_cptcity_url('cmocean/balance.cpt')"
   ]
  },
  {
   "cell_type": "code",
   "execution_count": null,
   "metadata": {},
   "outputs": [],
   "source": [
    "def plotElevation( data, cmin, cmax, colormap):\n",
    "    '''\n",
    "    data: dataset to plot\n",
    "    cmin,cmax: extent of the colormap\n",
    "    colormap: color sca\\le to use   \n",
    "    '''\n",
    "    \n",
    "    # Figure size is defined here\n",
    "    fig = plt.figure(1, figsize=(9,9))\n",
    "    \n",
    "    ax = plt.gca()\n",
    "    im = ax.imshow(np.flipud(data), interpolation='nearest', cmap=colormap,\n",
    "                     vmin=cmin, vmax=cmax)\n",
    "    divider = make_axes_locatable(ax)\n",
    "    cax = divider.append_axes(\"right\", size=\"3%\", pad=0.1)\n",
    "    cbar = plt.colorbar(im,cax=cax)\n",
    "    plt.tight_layout()\n",
    "\n",
    "    plt.show()\n",
    "    plt.close(fig)"
   ]
  },
  {
   "cell_type": "code",
   "execution_count": null,
   "metadata": {},
   "outputs": [],
   "source": [
    "plotElevation( strati.zi[:,:,-1], -10000, 10350, topocmap)"
   ]
  },
  {
   "cell_type": "code",
   "execution_count": null,
   "metadata": {},
   "outputs": [],
   "source": [
    "plotElevation( strati.edi[:,:,-1], -200, 200, depocmap)"
   ]
  },
  {
   "cell_type": "code",
   "execution_count": null,
   "metadata": {},
   "outputs": [],
   "source": [
    "plotElevation( strati.zi[800:1000,1200:1500,-1], -10000, 10350, topocmap)"
   ]
  },
  {
   "cell_type": "code",
   "execution_count": null,
   "metadata": {},
   "outputs": [],
   "source": [
    "plotElevation( strati.edi[900:1000,1300:1400,-1], -200, 200, depocmap)"
   ]
  },
  {
   "cell_type": "code",
   "execution_count": null,
   "metadata": {},
   "outputs": [],
   "source": [
    "t = clock()\n",
    "strati.writeMesh(vtkfile='amazon', lats=[800,1000], lons=[1200,1500], hscale=11000.)\n",
    "print('Writing stratal mesh (%0.02f seconds)'% (clock() - t))"
   ]
  },
  {
   "cell_type": "code",
   "execution_count": null,
   "metadata": {},
   "outputs": [],
   "source": []
  },
  {
   "cell_type": "code",
   "execution_count": null,
   "metadata": {},
   "outputs": [],
   "source": [
    "from pyevtk.hl import gridToVTK\n",
    "from scipy.ndimage import gaussian_filter\n",
    "\n",
    "def lonlat2xyz(lon, lat, elev):\n",
    "    \n",
    "    radius = 6378137.+elev\n",
    "    lon_r = np.radians(lon)\n",
    "    lat_r = np.radians(lat)\n",
    "\n",
    "    xs =  radius * np.cos(lat_r) * np.cos(lon_r)\n",
    "    ys = radius * np.cos(lat_r) * np.sin(lon_r)\n",
    "    zs = radius * np.sin(lat_r) \n",
    "    \n",
    "    return xs, ys, zs\n",
    "    \n",
    "def writesMesh(vtkfile='mesh', lons=None, lats=None, sigma=1.):\n",
    "    \n",
    "    ilon = np.linspace(0., 360., strati.nx)\n",
    "    ilat = np.linspace(0., 180., strati.ny)\n",
    "\n",
    "    if lons is None:\n",
    "        lons = [0,strati.nx]\n",
    "    if lats is None:\n",
    "        lats = [0,strati.ny]\n",
    "\n",
    "    x = np.zeros((lons[1]-lons[0], lats[1]-lats[0], strati.layNb))\n",
    "    y = np.zeros((lons[1]-lons[0], lats[1]-lats[0], strati.layNb))\n",
    "    z = np.zeros((lons[1]-lons[0], lats[1]-lats[0]))\n",
    "    sz = np.zeros((lons[1]-lons[0], lats[1]-lats[0], strati.layNb))\n",
    "    e = np.zeros((lons[1]-lons[0], lats[1]-lats[0], strati.layNb))\n",
    "    h = np.zeros((lons[1]-lons[0], lats[1]-lats[0], strati.layNb))\n",
    "    t = np.zeros((lons[1]-lons[0], lats[1]-lats[0], strati.layNb))\n",
    "\n",
    "    zz = strati.zi[lats[0]:lats[1],lons[0]:lons[1],-1]\n",
    "    zz = gaussian_filter(zz, sigma)\n",
    "    \n",
    "    import pandas as pd\n",
    "    import gc\n",
    "    \n",
    "    for k in range(strati.layNb-1,-1,-1):\n",
    "        print(k)\n",
    "        th = gaussian_filter(strati.thi[:,:,k], sigma)\n",
    "        th[th<0] = 0.\n",
    "        if k < strati.layNb-1:\n",
    "            thu = gaussian_filter(strati.thi[:,:,k+1], sigma)\n",
    "            thu[thu<0] = 0.\n",
    "            \n",
    "        for j in range(lats[1]-lats[0]):\n",
    "            for i in range(lons[1]-lons[0]):\n",
    "                \n",
    "                lx = ilon[i+lons[0]]\n",
    "                ly = ilat[j+lats[0]]\n",
    "                \n",
    "                if k == strati.layNb-1:\n",
    "                    z[i,j] = zz[j,i]\n",
    "                else:\n",
    "                    z[i,j] -= thu[j+lats[0],i+lons[0]]\n",
    "                \n",
    "                x[i,j,k],y[i,j,k],sz[i,j,k] = lonlat2xyz(lx-180.,ly-90.,z[i,j])\n",
    "                \n",
    "                e[i,j,k] = strati.zi[j+lats[0],i+lons[0],k]\n",
    "                h[i,j,k] = th[j+lats[0],i+lons[0]]\n",
    "                t[i,j,k] = k\n",
    "\n",
    "                \n",
    "    del ilon,ilat,z\n",
    "    gc.collect()\n",
    "    np.savez_compressed('dataset', x=x, y=y, z=sz, e=e, h=h, t=t)\n",
    "#     gridToVTK(vtkfile, x, y, sz) #, pointData = {\"dep elev\" : e, \"th\" :h, \"layID\" :t})\n",
    "\n",
    "    return"
   ]
  },
  {
   "cell_type": "code",
   "execution_count": null,
   "metadata": {},
   "outputs": [],
   "source": [
    "writesMesh(vtkfile='sp')"
   ]
  },
  {
   "cell_type": "code",
   "execution_count": 1,
   "metadata": {},
   "outputs": [],
   "source": [
    "import numpy as np\n",
    "from pyevtk.hl import gridToVTK\n",
    "\n",
    "vtkfile='sphere'\n",
    "loaded = np.load(\"dataset.npz\")\n",
    "x = loaded['x']\n",
    "y = loaded['y']\n",
    "z = loaded['z']\n",
    "e = loaded['e']\n",
    "h = loaded['h']\n",
    "t = loaded['t']"
   ]
  },
  {
   "cell_type": "code",
   "execution_count": 2,
   "metadata": {},
   "outputs": [
    {
     "data": {
      "text/plain": [
       "'/live/share/global/globalData/sphere.vts'"
      ]
     },
     "execution_count": 2,
     "metadata": {},
     "output_type": "execute_result"
    }
   ],
   "source": [
    "gridToVTK(vtkfile, x, y, z, pointData = {\"dep elev\" : e, \"th\" :h, \"layID\" :t})"
   ]
  },
  {
   "cell_type": "code",
   "execution_count": null,
   "metadata": {},
   "outputs": [],
   "source": []
  }
 ],
 "metadata": {
  "kernelspec": {
   "display_name": "Python 3",
   "language": "python",
   "name": "python3"
  },
  "language_info": {
   "codemirror_mode": {
    "name": "ipython",
    "version": 3
   },
   "file_extension": ".py",
   "mimetype": "text/x-python",
   "name": "python",
   "nbconvert_exporter": "python",
   "pygments_lexer": "ipython3",
   "version": "3.5.3"
  }
 },
 "nbformat": 4,
 "nbformat_minor": 2
}
